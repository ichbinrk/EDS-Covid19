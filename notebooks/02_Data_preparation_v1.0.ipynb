{
 "cells": [
  {
   "cell_type": "code",
   "execution_count": 1,
   "metadata": {},
   "outputs": [],
   "source": [
    "import pandas as pd\n",
    "import numpy as np\n",
    "\n",
    "import matplotlib.pyplot as plt\n",
    "import matplotlib as mpl\n",
    "%matplotlib inline\n",
    "\n",
    "from matplotlib.ticker import FormatStrFormatter\n",
    "\n",
    "from datetime import datetime\n",
    "\n",
    "import subprocess\n",
    "import os\n",
    "\n",
    "mpl.rcParams['figure.figsize'] = (16, 9)"
   ]
  },
  {
   "cell_type": "markdown",
   "metadata": {},
   "source": [
    "# Standard process in data science\n",
    "!['CRISP_DM'](../reports/figures/CRISP_DM.png)\n",
    "\n",
    "\n",
    "# Data Preparation\n",
    "\n",
    "* Data strcture must be clear and understandable\n",
    "* Visulize data into plots and graphs\n",
    "\n",
    "## GitHub CSV data : John Hopkins \n",
    "\n",
    "First we will scrap data for confirmed cases country wise and will do it for limited number of countries"
   ]
  },
  {
   "cell_type": "code",
   "execution_count": null,
   "metadata": {},
   "outputs": [],
   "source": [
    "git_repo = 'https://github.com/CSSEGISandData/COVID-19.git'\n",
    "git_clone = subprocess.Popen( \"git clone \" + git_repo ,\n",
    "                         cwd = os.path.dirname( '../data/raw/' ),\n",
    "                         shell = True,\n",
    "                         stdout = subprocess.PIPE,\n",
    "                         stderr = subprocess.PIPE )\n",
    "(out, error) = git_clone.communicate()\n",
    "\n",
    "print('out:', out)\n",
    "print('error:', error)"
   ]
  },
  {
   "cell_type": "code",
   "execution_count": null,
   "metadata": {},
   "outputs": [],
   "source": [
    "# load data from csv file\n",
    "filepath = '../data/raw/COVID-19/csse_covid_19_data/csse_covid_19_time_series/time_series_covid19_confirmed_global.csv'\n",
    "pd_raw_confirmed = pd.read_csv(filepath)\n",
    "\n",
    "pd_raw_confirmed.head()"
   ]
  },
  {
   "cell_type": "markdown",
   "metadata": {},
   "source": [
    "## Filter raw data"
   ]
  },
  {
   "cell_type": "code",
   "execution_count": null,
   "metadata": {},
   "outputs": [],
   "source": [
    "t_idx = pd_raw_confirmed.columns[4:]\n",
    "\n",
    "df_confirmed = pd.DataFrame({'date':t_idx})\n",
    "df_confirmed.head()"
   ]
  },
  {
   "cell_type": "code",
   "execution_count": null,
   "metadata": {},
   "outputs": [],
   "source": [
    "# get daily cases for one counrty e.g. Germany\n",
    "pd_raw_confirmed[pd_raw_confirmed['Country/Region']=='Germany'].iloc[:,4::].sum(axis=0)[-4:]"
   ]
  },
  {
   "cell_type": "code",
   "execution_count": null,
   "metadata": {},
   "outputs": [],
   "source": [
    "# do same for multiple countries\n",
    "countries =['Italy', 'US', 'Spain', 'Germany', 'Russia' , 'India', 'Brazil'] \n",
    "\n",
    "for con in countries:\n",
    "    df_confirmed[con]=np.array(pd_raw_confirmed[pd_raw_confirmed['Country/Region']==con].iloc[:,4::].sum(axis=0))\n",
    "    \n",
    "df_confirmed.tail()"
   ]
  },
  {
   "cell_type": "code",
   "execution_count": null,
   "metadata": {},
   "outputs": [],
   "source": [
    "df_confirmed.set_index('date').plot()\n",
    "plt.xlabel('Date')\n",
    "plt.ylabel('Total cases')\n",
    "plt.gca().yaxis.set_major_formatter(FormatStrFormatter('%.0f'))"
   ]
  },
  {
   "cell_type": "markdown",
   "metadata": {},
   "source": [
    "## Datatype of date "
   ]
  },
  {
   "cell_type": "code",
   "execution_count": null,
   "metadata": {},
   "outputs": [],
   "source": [
    "df_confirmed.tail()"
   ]
  },
  {
   "cell_type": "code",
   "execution_count": null,
   "metadata": {},
   "outputs": [],
   "source": [
    "# convert to datetime df_confirmed\n",
    "t_idx = [datetime.strptime(date,\"%m/%d/%y\") for date in df_confirmed.date] \n",
    "# convert back to date ISO norm (str)\n",
    "t_str = [each.strftime('%Y-%m-%d') for each in t_idx] \n",
    "\n",
    "# set back to DataFrame\n",
    "df_confirmed['date'] = t_idx"
   ]
  },
  {
   "cell_type": "code",
   "execution_count": null,
   "metadata": {},
   "outputs": [],
   "source": [
    "# cross check\n",
    "type(df_confirmed['date'][0])"
   ]
  },
  {
   "cell_type": "code",
   "execution_count": null,
   "metadata": {},
   "outputs": [],
   "source": [
    "df_confirmed.to_csv('../data/processed/COVID_small_flat_table.csv',sep=';',index=False)"
   ]
  },
  {
   "cell_type": "markdown",
   "metadata": {},
   "source": [
    "### Scrap recovered and currently infected cases and deaths"
   ]
  },
  {
   "cell_type": "code",
   "execution_count": null,
   "metadata": {},
   "outputs": [],
   "source": [
    " def store_JH_small_data(filepath, country_list):\n",
    "    # load data from csv file\n",
    "    df = pd.read_csv(filepath)\n",
    "    \n",
    "    t_idx = df.columns[4:]\n",
    "    \n",
    "    df_processed = pd.DataFrame({'date':t_idx})\n",
    "    \n",
    "    for each in country_list:\n",
    "        df_processed[each]=np.array(df[df['Country/Region']==each].iloc[:,4::].sum(axis=0))\n",
    "    \n",
    "    t_idx = [datetime.strptime(date,\"%m/%d/%y\") for date in df_processed.date] \n",
    "    df_processed['date'] = t_idx\n",
    "    return df_processed"
   ]
  },
  {
   "cell_type": "markdown",
   "metadata": {},
   "source": [
    "#### Recovered "
   ]
  },
  {
   "cell_type": "code",
   "execution_count": null,
   "metadata": {},
   "outputs": [],
   "source": [
    "filepath = '../data/raw/COVID-19/csse_covid_19_data/csse_covid_19_time_series/time_series_covid19_recovered_global.csv'\n",
    "df_recovered = store_JH_small_data(filepath, countries)\n",
    "df_recovered.tail()"
   ]
  },
  {
   "cell_type": "code",
   "execution_count": null,
   "metadata": {},
   "outputs": [],
   "source": [
    "df_recovered.to_csv('../data/processed/COVID_small_flat_table_recovered.csv',sep=';',index=False)"
   ]
  },
  {
   "cell_type": "markdown",
   "metadata": {},
   "source": [
    "#### Deaths"
   ]
  },
  {
   "cell_type": "code",
   "execution_count": null,
   "metadata": {},
   "outputs": [],
   "source": [
    "filepath = '../data/raw/COVID-19/csse_covid_19_data/csse_covid_19_time_series/time_series_covid19_deaths_global.csv'\n",
    "df_deaths = store_JH_small_data(filepath, countries)\n",
    "df_deaths.tail()"
   ]
  },
  {
   "cell_type": "code",
   "execution_count": null,
   "metadata": {},
   "outputs": [],
   "source": [
    "df_deaths.to_csv('../data/processed/COVID_small_flat_table_deaths.csv',sep=';',index=False)"
   ]
  },
  {
   "cell_type": "markdown",
   "metadata": {},
   "source": [
    "#### Infected"
   ]
  },
  {
   "cell_type": "code",
   "execution_count": null,
   "metadata": {},
   "outputs": [],
   "source": [
    "df_infected = pd.DataFrame()\n",
    "df_infected['date'] = t_idx\n",
    "df_infected = pd.concat([df_infected, df_confirmed.iloc[:, 1::] - df_recovered.iloc[:, 1::] - df_deaths.iloc[:, 1::]], \n",
    "                        axis=1)"
   ]
  },
  {
   "cell_type": "code",
   "execution_count": null,
   "metadata": {},
   "outputs": [],
   "source": [
    "df_infected.to_csv('../data/processed/COVID_small_flat_table_infected.csv',sep=';',index=False)"
   ]
  },
  {
   "cell_type": "markdown",
   "metadata": {},
   "source": [
    "## Relational data model - defining a primary key\n",
    "\n",
    "A primary key’s main features are:\n",
    "\n",
    "* It must contain a unique value for each row of data.\n",
    "* It cannot contain NaN values."
   ]
  },
  {
   "cell_type": "code",
   "execution_count": null,
   "metadata": {},
   "outputs": [],
   "source": [
    "data_path = '../data/raw/COVID-19/csse_covid_19_data/csse_covid_19_time_series/time_series_covid19_confirmed_global.csv'\n",
    "pd_raw = pd.read_csv(data_path)\n",
    "pd_raw.head()"
   ]
  },
  {
   "cell_type": "code",
   "execution_count": null,
   "metadata": {},
   "outputs": [],
   "source": [
    "# adjust column name\n",
    "pd_data_base = pd_raw.rename(columns = {'Country/Region':'country',\n",
    "                                    'Province/State':'state'})\n",
    "pd_data_base['state'] = pd_data_base['state'].fillna('no')\n",
    "\n",
    "# drop unnecessary columns\n",
    "pd_data_base = pd_data_base.drop(['Lat','Long'],axis=1)\n",
    "pd_data_base.head()"
   ]
  },
  {
   "cell_type": "code",
   "execution_count": null,
   "metadata": {},
   "outputs": [],
   "source": [
    "pd_relational=pd_data_base.set_index(['state','country']).T.stack(level=[0,1]).reset_index().rename(columns={'level_0': 'date',\n",
    "                                                                                                             0:'confirmed'\n",
    "                                                                                                            })\n",
    "pd_relational.head()"
   ]
  },
  {
   "cell_type": "code",
   "execution_count": null,
   "metadata": {},
   "outputs": [],
   "source": [
    "pd_relational.dtypes"
   ]
  },
  {
   "cell_type": "code",
   "execution_count": null,
   "metadata": {},
   "outputs": [],
   "source": [
    "# chnage datatype of date\n",
    "pd_relational['date'] = pd_relational.date.astype('datetime64[ns]')\n",
    "pd_relational['confirmed'] = pd_relational.confirmed.astype(int)"
   ]
  },
  {
   "cell_type": "code",
   "execution_count": null,
   "metadata": {},
   "outputs": [],
   "source": [
    "pd_relational.dtypes"
   ]
  },
  {
   "cell_type": "code",
   "execution_count": null,
   "metadata": {},
   "outputs": [],
   "source": [
    "pd_relational[pd_relational['country']=='US'].tail()"
   ]
  },
  {
   "cell_type": "code",
   "execution_count": null,
   "metadata": {},
   "outputs": [],
   "source": [
    "pd_relational.to_csv('../data/processed/COVID_relational_confirmed.csv',sep=';',index=False)"
   ]
  },
  {
   "cell_type": "markdown",
   "metadata": {},
   "source": [
    "## Rational data model for US region from John Hopkins dataset"
   ]
  },
  {
   "cell_type": "code",
   "execution_count": null,
   "metadata": {},
   "outputs": [],
   "source": [
    "data_path='../data/raw/COVID-19/csse_covid_19_data/csse_covid_19_time_series/time_series_covid19_confirmed_US.csv'\n",
    "pd_raw_US=pd.read_csv(data_path)\n",
    "pd_raw_US.head()"
   ]
  },
  {
   "cell_type": "code",
   "execution_count": null,
   "metadata": {},
   "outputs": [],
   "source": [
    "# remove unwated columns and chnage column names\n",
    "pd_raw_US=pd_raw_US.drop(['UID', 'iso2', 'iso3', 'code3', 'Country_Region','FIPS', 'Admin2',  'Lat', 'Long_', 'Combined_Key'],axis=1)\n",
    "pd_data_base_US=pd_raw_US.rename(columns={'Province_State':'state'}).copy()"
   ]
  },
  {
   "cell_type": "code",
   "execution_count": null,
   "metadata": {},
   "outputs": [],
   "source": [
    "# stack data in rational form\n",
    "pd_relational_US=pd_data_base_US.set_index(['state']).T.stack().reset_index()                  \\\n",
    "                                    .rename(columns={'level_0':'date', 0:'confirmed'})\n",
    "\n",
    "# convert to datetime\n",
    "pd_relational_US['country']='US'\n",
    "pd_relational_US['date']=[datetime.strptime( each,\"%m/%d/%y\") for each in pd_relational_US.date] \n",
    "pd_relational_US.head()"
   ]
  },
  {
   "cell_type": "code",
   "execution_count": null,
   "metadata": {},
   "outputs": [],
   "source": [
    "# merge US data into main rational DataFrame\n",
    "pd_relational_model_all=pd_relational[pd_relational['country']!='US'].reset_index(drop=True)\n",
    "pd_relational_model_all=pd.concat([pd_relational_model_all,pd_relational_US],ignore_index=True)\n",
    "\n",
    "pd_relational_model_all[pd_relational_model_all['country']=='US'].tail()"
   ]
  },
  {
   "cell_type": "code",
   "execution_count": null,
   "metadata": {},
   "outputs": [],
   "source": [
    "# export data to csv\n",
    "pd_relational_model_all.to_csv('../data/processed/20200730_COVID_relational_confirmed.csv',sep=';',index=False)"
   ]
  }
 ],
 "metadata": {
  "kernelspec": {
   "display_name": "Python 3",
   "language": "python",
   "name": "python3"
  },
  "language_info": {
   "codemirror_mode": {
    "name": "ipython",
    "version": 3
   },
   "file_extension": ".py",
   "mimetype": "text/x-python",
   "name": "python",
   "nbconvert_exporter": "python",
   "pygments_lexer": "ipython3",
   "version": "3.7.7"
  }
 },
 "nbformat": 4,
 "nbformat_minor": 4
}
